{
  "nbformat": 4,
  "nbformat_minor": 0,
  "metadata": {
    "colab": {
      "name": "Caixa_de_ferramentas.ipynb",
      "provenance": [],
      "authorship_tag": "ABX9TyPQr22oLc/HGxEO2tS5wHoP",
      "include_colab_link": true
    },
    "kernelspec": {
      "name": "python3",
      "display_name": "Python 3"
    }
  },
  "cells": [
    {
      "cell_type": "markdown",
      "metadata": {
        "id": "view-in-github",
        "colab_type": "text"
      },
      "source": [
        "<a href=\"https://colab.research.google.com/github/DaniYama/DSWPmy/blob/main/Caixa_de_ferramentas.ipynb\" target=\"_parent\"><img src=\"https://colab.research.google.com/assets/colab-badge.svg\" alt=\"Open In Colab\"/></a>"
      ]
    },
    {
      "cell_type": "code",
      "metadata": {
        "id": "EwOczj2n7a4d"
      },
      "source": [
        ""
      ],
      "execution_count": null,
      "outputs": []
    },
    {
      "cell_type": "markdown",
      "metadata": {
        "id": "BrNFKlVV8kz3"
      },
      "source": [
        "# Carregar a library Pandas e verificar a versão"
      ]
    },
    {
      "cell_type": "code",
      "metadata": {
        "id": "CP_aukOS8l7D"
      },
      "source": [
        "# Carrega a library Pandas\n",
        "import pandas as pd\n",
        "import numpy as np\n",
        "import matplotlib.pyplot as plt\n",
        "%matplotlib inline\n",
        "\n",
        "print(f'Versão do Pandas: {pd.__version__}')\n",
        "print(f'Versão do NumPy.: {np.__version__}')"
      ],
      "execution_count": null,
      "outputs": []
    },
    {
      "cell_type": "markdown",
      "metadata": {
        "id": "9q4Ry8w18aER"
      },
      "source": [
        "# Configurações\n",
        "Podemos configurar o pandas de forma a tornar nosso trabalho mais produtivo. Podemos configurar, por exemplo, o número de LINHAS e COLUNAS a ser mostrado, precisão dos números float. Vamos ver com mais detalhes a seguir.\n",
        "\n",
        "Fonte: 5 Advanced Features of Pandas and How to Use Them.\n",
        "\n",
        "Bom para não ter que ficar configurando todo tempo"
      ]
    },
    {
      "cell_type": "code",
      "metadata": {
        "id": "M_1kV25k8c80"
      },
      "source": [
        "d_configuracao = {\n",
        "    'display.max_columns': 1000,\n",
        "    'display.expand_frame_repr': True,\n",
        "    'display.max_rows': 10,\n",
        "    'display.precision': 2,\n",
        "    'display.show_dimensions': True\n",
        "                  }\n",
        "\n",
        "for op, value in d_configuracao.items():\n",
        "    pd.set_option(op, value)\n",
        "    print(op, value)"
      ],
      "execution_count": null,
      "outputs": []
    },
    {
      "cell_type": "markdown",
      "metadata": {
        "id": "qkKNPVgh7eLY"
      },
      "source": [
        "# Corrigir (ou uniformizar) nome das COLUNAS"
      ]
    },
    {
      "cell_type": "code",
      "metadata": {
        "id": "pg3AL5s37fPo"
      },
      "source": [
        "def transformacao_lower(df):\n",
        "    # Primeira transformação: Aplicar lower() nos nomes das COLUNAS:\n",
        "    df.columns = [col.lower() for col in df.columns]\n",
        "\n",
        "    # Segunda transformação: Aplicar o método .str.lower() nos valores das COLUNAS object/strings:\n",
        "    l_cols_objeto = df.select_dtypes(include = ['object']).columns\n",
        "    \n",
        "    for col in l_cols_objeto:\n",
        "        df[col] = df[col].str.lower()"
      ],
      "execution_count": null,
      "outputs": []
    },
    {
      "cell_type": "code",
      "metadata": {
        "id": "rwhMUPor7roa"
      },
      "source": [
        "# ex: depois vc chama o seu df  e aplica essa ferramenta\n",
        "transformacao_lower(df_Titanic)\n",
        "df_Titanic.head()"
      ],
      "execution_count": null,
      "outputs": []
    }
  ]
}