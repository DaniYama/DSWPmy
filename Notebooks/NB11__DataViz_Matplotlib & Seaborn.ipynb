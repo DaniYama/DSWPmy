{
  "nbformat": 4,
  "nbformat_minor": 0,
  "metadata": {
    "colab": {
      "name": "Untitled31.ipynb",
      "provenance": [],
      "private_outputs": true,
      "include_colab_link": true
    },
    "kernelspec": {
      "name": "python3",
      "display_name": "Python 3"
    }
  },
  "cells": [
    {
      "cell_type": "markdown",
      "metadata": {
        "id": "view-in-github",
        "colab_type": "text"
      },
      "source": [
        "<a href=\"https://colab.research.google.com/github/DaniYama/DSWPmy/blob/main/Notebooks/NB11__DataViz_Matplotlib%20%26%20Seaborn.ipynb\" target=\"_parent\"><img src=\"https://colab.research.google.com/assets/colab-badge.svg\" alt=\"Open In Colab\"/></a>"
      ]
    },
    {
      "cell_type": "markdown",
      "metadata": {
        "id": "oRokSLxEMgDN"
      },
      "source": [
        "## Referência\n",
        "* [Visualization](https://pandas.pydata.org/pandas-docs/stable/user_guide/visualization.html)"
      ]
    },
    {
      "cell_type": "markdown",
      "metadata": {
        "id": "-MxSwlS6XF_l"
      },
      "source": [
        "*ver: Data story telling*\n",
        "<img src=\"data:image/jpeg;base64,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\">"
      ]
    },
    {
      "cell_type": "markdown",
      "metadata": {
        "id": "XdffXRtxX9zK"
      },
      "source": [
        "*Provavelmente na receita vai usar power BI*\n"
      ]
    },
    {
      "cell_type": "code",
      "metadata": {
        "id": "IFiAWdKnFS5A"
      },
      "source": [
        "import numpy as np\n",
        "import pandas as pd\n",
        "import matplotlib.pyplot as plt #librarys para visualization\n",
        "import seaborn as sns\n",
        "import bokeh # library necessária para conversar com contagil\n",
        "\n",
        "plt.rcParams[\"figure.figsize\"] = [15, 12]\n",
        "%matplotlib inline"
      ],
      "execution_count": null,
      "outputs": []
    },
    {
      "cell_type": "markdown",
      "metadata": {
        "id": "UfrAHnWpJTwD"
      },
      "source": [
        "## Séries temporais simples"
      ]
    },
    {
      "cell_type": "markdown",
      "metadata": {
        "id": "_PV_kTGRMq4B"
      },
      "source": [
        "#### Série/Dados simulados"
      ]
    },
    {
      "cell_type": "code",
      "metadata": {
        "id": "_yVTB9v0KQxp"
      },
      "source": [
        "from datetime import datetime\n",
        "\n",
        "dt_hoje = datetime.strptime('2020-10-14', '%Y-%m-%d')\n",
        "dt_inicio = datetime.strptime('2020-01-01', '%Y-%m-%d')"
      ],
      "execution_count": null,
      "outputs": []
    },
    {
      "cell_type": "code",
      "metadata": {
        "id": "gMQx3JSlJz0R"
      },
      "source": [
        "# Quantos dias desde a data inicial?\n",
        "i_quantidade_dias = abs((dt_hoje - dt_inicio).days)\n",
        "i_quantidade_dias"
      ],
      "execution_count": null,
      "outputs": []
    },
    {
      "cell_type": "code",
      "metadata": {
        "id": "Tb70ycS_JWvQ"
      },
      "source": [
        "np.random.seed(20111974)\n",
        "\n",
        "i_qtd_ativos = 4\n",
        "df_series_temporais = pd.DataFrame(np.random.randn(i_quantidade_dias, i_qtd_ativos), index = pd.date_range(dt_inicio, periods = i_quantidade_dias)) #, columns = list('ABCD'))\n",
        "df_series_temporais.columns = ['Ativo1', 'Ativo2', 'Ativo3', 'Ativo4']\n",
        "\n",
        "#serie_temporal = pd.Series(np.random.randn(i_quantidade_dias), index = pd.date_range(dt_inicio, periods = i_quantidade_dias))\n",
        "df_series_temporais.head()"
      ],
      "execution_count": null,
      "outputs": []
    },
    {
      "cell_type": "markdown",
      "metadata": {
        "id": "B0gy7XhGXE5A"
      },
      "source": [
        ""
      ]
    },
    {
      "cell_type": "markdown",
      "metadata": {
        "id": "hPq0XtirNMhm"
      },
      "source": [
        "## Gráfico de séries temporais"
      ]
    },
    {
      "cell_type": "code",
      "metadata": {
        "id": "kEu3wDl9L92i"
      },
      "source": [
        "df_series_temporais2 = df_series_temporais.cumsum()\n",
        "plt.figure()\n",
        "df_series_temporais2.plot()"
      ],
      "execution_count": null,
      "outputs": []
    },
    {
      "cell_type": "markdown",
      "metadata": {
        "id": "oEQQHUG8KtAv"
      },
      "source": [
        "Gráfico de 1 única série temporal"
      ]
    },
    {
      "cell_type": "code",
      "metadata": {
        "id": "xqNCkZdIKh3L"
      },
      "source": [
        "df_series_temporais3 = df_series_temporais['Ativo1'] #somente uma das séries\n",
        "plt.figure()\n",
        "df_series_temporais3.plot()"
      ],
      "execution_count": null,
      "outputs": []
    },
    {
      "cell_type": "code",
      "metadata": {
        "id": "m5rMpulVKrSe"
      },
      "source": [
        "df_series_temporais3 = df_series_temporais['Ativo1'].cumsum()\n",
        "plt.figure()\n",
        "df_series_temporais3.plot()"
      ],
      "execution_count": null,
      "outputs": []
    },
    {
      "cell_type": "markdown",
      "metadata": {
        "id": "Wa4sXjcMNkzS"
      },
      "source": [
        "Experimente kind = {'line', 'box', 'hist', 'kde'}"
      ]
    },
    {
      "cell_type": "code",
      "metadata": {
        "id": "VO90KDxObOjj"
      },
      "source": [
        "df_series_temporais3 = df_series_temporais['Ativo1'].cumsum()\n",
        "plt.figure()\n",
        "df_series_temporais3.plot(kind = 'box')"
      ],
      "execution_count": null,
      "outputs": []
    },
    {
      "cell_type": "markdown",
      "metadata": {
        "id": "8eAETzNARsxo"
      },
      "source": [
        "### Se quisermos comparar horizontalmente\n",
        "* No caso abaixo, estou a comparar as colunas 'Ativo1', 'Ativo2', 'Ativo3' e 'Ativo4' quanto ao conteúdo da linha 3 --> iloc[3]."
      ]
    },
    {
      "cell_type": "code",
      "metadata": {
        "id": "Ugvt3wMkbajN"
      },
      "source": [
        "df_series_temporais2.head()"
      ],
      "execution_count": null,
      "outputs": []
    },
    {
      "cell_type": "code",
      "metadata": {
        "id": "6a0FB-SPReD9"
      },
      "source": [
        "plt.figure()\n",
        "df_series_temporais2.iloc[3].plot(kind ='bar') #somente para linha 3"
      ],
      "execution_count": null,
      "outputs": []
    },
    {
      "cell_type": "code",
      "metadata": {
        "id": "ov7fKVO3So9v"
      },
      "source": [
        "df_series_temporais2.head()"
      ],
      "execution_count": null,
      "outputs": []
    },
    {
      "cell_type": "code",
      "metadata": {
        "id": "rM32swu3S046"
      },
      "source": [
        "df_series_temporais2.iloc[3]"
      ],
      "execution_count": null,
      "outputs": []
    },
    {
      "cell_type": "markdown",
      "metadata": {
        "id": "qJ8SBoT6SSu0"
      },
      "source": [
        "### Comparar grupos\n",
        "* Neste caso, vou selecionar (ou dar um zoom) somente em alguns dias do dataframe."
      ]
    },
    {
      "cell_type": "code",
      "metadata": {
        "id": "kKeby_vwTB5j"
      },
      "source": [
        "df_series_temporais2_zoom = df_series_temporais2[0:10]\n",
        "df_series_temporais2_zoom"
      ],
      "execution_count": null,
      "outputs": []
    },
    {
      "cell_type": "code",
      "metadata": {
        "id": "I_XBwdn_Sa8h"
      },
      "source": [
        "df_series_temporais2_zoom.plot(kind = 'bar')"
      ],
      "execution_count": null,
      "outputs": []
    },
    {
      "cell_type": "markdown",
      "metadata": {
        "id": "Zru6GuoYTuzd"
      },
      "source": [
        "#### Outra forma de visualizar o mesmo resultado:\n",
        "* stacked bar plot --> Basta usar o parâmetro stacked = True"
      ]
    },
    {
      "cell_type": "code",
      "metadata": {
        "id": "lHY7A1RLTzaT"
      },
      "source": [
        "df_series_temporais2_zoom.plot(kind = 'bar', stacked = True)"
      ],
      "execution_count": null,
      "outputs": []
    },
    {
      "cell_type": "markdown",
      "metadata": {
        "id": "UWP6hLn8US1M"
      },
      "source": [
        "### Se quiser visualizar o gráfico na horizontal..."
      ]
    },
    {
      "cell_type": "code",
      "metadata": {
        "id": "7dtzx-vOUWNG"
      },
      "source": [
        "df_series_temporais2_zoom.plot(kind = 'barh', stacked = True)"
      ],
      "execution_count": null,
      "outputs": []
    },
    {
      "cell_type": "markdown",
      "metadata": {
        "id": "Z22k7IOyU6la"
      },
      "source": [
        "### Histogramas"
      ]
    },
    {
      "cell_type": "code",
      "metadata": {
        "id": "LKLWYWYeU8UV"
      },
      "source": [
        "df_series_temporais2.plot(kind = 'hist', bins = 100) # O que são bins?"
      ],
      "execution_count": null,
      "outputs": []
    },
    {
      "cell_type": "code",
      "metadata": {
        "id": "KQymH_PZeOex"
      },
      "source": [
        "df_series_temporais2.plot(kind = 'hist', bins = 10) # O que são bins?"
      ],
      "execution_count": null,
      "outputs": []
    },
    {
      "cell_type": "markdown",
      "metadata": {
        "id": "dG4zhQExVbY1"
      },
      "source": [
        "#### Histograma individual"
      ]
    },
    {
      "cell_type": "code",
      "metadata": {
        "id": "ZNGWjh9LVdb7"
      },
      "source": [
        "plt.figure()\n",
        "df_series_temporais2['Ativo3'].diff().hist() # Veja abaixo melhores explicações sobre o método diff(axis, periods) "
      ],
      "execution_count": null,
      "outputs": []
    },
    {
      "cell_type": "code",
      "metadata": {
        "id": "3LQlM_qjWd7g"
      },
      "source": [
        "df_series_temporais2.head()"
      ],
      "execution_count": null,
      "outputs": []
    },
    {
      "cell_type": "code",
      "metadata": {
        "id": "x3N6q_fTWl60"
      },
      "source": [
        "df_series_temporais2.diff(axis = 0, periods= 1).head() # dia d - (d-1) diferença entre linhas"
      ],
      "execution_count": null,
      "outputs": []
    },
    {
      "cell_type": "code",
      "metadata": {
        "id": "LGknpyFaWqcZ"
      },
      "source": [
        "df_series_temporais2.iloc[1][0] - df_series_temporais2.iloc[0][0] # conta que está fazendo"
      ],
      "execution_count": null,
      "outputs": []
    },
    {
      "cell_type": "markdown",
      "metadata": {
        "id": "Yq6TtAU2XAHL"
      },
      "source": [
        "#### diff(axis = 1, periods = 1) aplica a diferença nas colunas! Veja abaixo:\n",
        "\n"
      ]
    },
    {
      "cell_type": "code",
      "metadata": {
        "id": "6QRBLyBQXKq8"
      },
      "source": [
        "df_series_temporais2.diff(axis = 1, periods = 1).head() # dieferença entre colunas"
      ],
      "execution_count": null,
      "outputs": []
    },
    {
      "cell_type": "markdown",
      "metadata": {
        "id": "niDjEkSpYgAj"
      },
      "source": [
        "### Histogramas em múltiplos gráficos"
      ]
    },
    {
      "cell_type": "code",
      "metadata": {
        "id": "4ie8toFUYlF-"
      },
      "source": [
        "plt.figure()\n",
        "df_series_temporais2.diff(axis = 0, periods = 1).hist(color ='k', alpha = 0.5, bins = 50)"
      ],
      "execution_count": null,
      "outputs": []
    },
    {
      "cell_type": "markdown",
      "metadata": {
        "id": "r7W97FztGTMl"
      },
      "source": [
        "## Boxplot"
      ]
    },
    {
      "cell_type": "code",
      "metadata": {
        "id": "Q-19pTLZZKVj"
      },
      "source": [
        "plt.figure()\n",
        "boxplot = df_series_temporais2.boxplot(vert = True) # Observe o parâmetro vert = True"
      ],
      "execution_count": null,
      "outputs": []
    },
    {
      "cell_type": "code",
      "metadata": {
        "id": "aQ2qQetiGU8f"
      },
      "source": [
        "plt.figure()\n",
        "boxplot = df_series_temporais2.boxplot(vert = False) # Observe o parâmetro vert = False"
      ],
      "execution_count": null,
      "outputs": []
    },
    {
      "cell_type": "markdown",
      "metadata": {
        "id": "Wo6AFzOPMvMf"
      },
      "source": [
        "#### Dados sobre a qualidade de vinhos - White vs Red\n",
        "\n",
        "* O objetivo é avaliar a qualidade dos vinhos (tinto vs branco), numa scala de 0–100. A seguir, a qualidade em função da escala:\n",
        "\n",
        "* 95–100 Classic: a great wine\n",
        "* 90–94 Outstanding: a wine of superior character and style\n",
        "* 85–89 Very good: a wine with special qualities\n",
        "* 80–84 Good: a solid, well-made wine\n",
        "* 75–79 Mediocre: a drinkable wine that may have minor flaws\n",
        "* 50–74 Not recommended"
      ]
    },
    {
      "cell_type": "code",
      "metadata": {
        "id": "aO9K8R9Qa9Uj"
      },
      "source": [
        "url_tinto = 'https://raw.githubusercontent.com/MathMachado/DataFrames/master/Wine_red.csv?token=AGDJQ64FIW7QA6DNJTVT6JC7SACV6'\n",
        "url_branco = 'https://raw.githubusercontent.com/MathMachado/DataFrames/master/Wine_white.csv?token=AGDJQ67RPQDN45RZYZHV5SK7SACXY'\n",
        "df_vinho_tinto = pd.read_csv(url_tinto)\n",
        "df_vinho_tinto[\"color\"] = 1 # --> Vinho Tinto\n",
        "\n",
        "df_vinho_branco = pd.read_csv(url_branco)\n",
        "df_vinho_branco[\"color\"] = 0 # --> Vinho Branco - lê a coluna e já atribui o tipo tinto ou branco"
      ],
      "execution_count": null,
      "outputs": []
    },
    {
      "cell_type": "code",
      "metadata": {
        "id": "owdOjksbg7Dc"
      },
      "source": [
        "df_vinhos = pd.concat([df_vinho_tinto, df_vinho_branco], axis = 0)\n",
        "df_vinhos.shape"
      ],
      "execution_count": null,
      "outputs": []
    },
    {
      "cell_type": "code",
      "metadata": {
        "id": "zYniNn5PfGx9"
      },
      "source": [
        "df_vinho_tinto.columns"
      ],
      "execution_count": null,
      "outputs": []
    },
    {
      "cell_type": "code",
      "metadata": {
        "id": "KL7iW5mtgCre"
      },
      "source": [
        "df_vinhos['quality'].value_counts()"
      ],
      "execution_count": null,
      "outputs": []
    },
    {
      "cell_type": "code",
      "metadata": {
        "id": "G_yOZ-Gqmscv"
      },
      "source": [
        "df_vinhos['color'].value_counts() # tem 3x mais tinto do que brnaco"
      ],
      "execution_count": null,
      "outputs": []
    },
    {
      "cell_type": "markdown",
      "metadata": {
        "id": "IKTEbTW2jMVv"
      },
      "source": [
        "#### Tratamento do nome das colunas"
      ]
    },
    {
      "cell_type": "code",
      "metadata": {
        "id": "SZe_K0rom67O"
      },
      "source": [
        "df_vinhos.head\n"
      ],
      "execution_count": null,
      "outputs": []
    },
    {
      "cell_type": "code",
      "metadata": {
        "id": "1Oo-6k2jh3bx"
      },
      "source": [
        "df_vinhos.columns = [col.lower() for col in df_vinhos.columns]\n",
        "\n",
        "# substituir ' ' por '_' no nome das colunas:\n",
        "df_vinhos.columns = [col.replace(' ', '_') for col in df_vinhos.columns]\n",
        "df_vinhos.head()"
      ],
      "execution_count": null,
      "outputs": []
    },
    {
      "cell_type": "code",
      "metadata": {
        "id": "eiMHK6aJjoZl"
      },
      "source": [
        "df_vinhos.describe()"
      ],
      "execution_count": null,
      "outputs": []
    },
    {
      "cell_type": "code",
      "metadata": {
        "id": "sUNEzoC7j0PV"
      },
      "source": [
        "print(f\"Média do vinho Branco: {df_vinho_branco['quality'].mean()}\")\n",
        "print(f\"Média do vinho Tinto.: {df_vinho_tinto['quality'].mean()}\")\n",
        "print(f\"Média Geral..........: {df_vinhos['quality'].mean()}\")"
      ],
      "execution_count": null,
      "outputs": []
    },
    {
      "cell_type": "markdown",
      "metadata": {
        "id": "tIBDUBI4n78b"
      },
      "source": [
        "Abaixo, o mesmo cálculo, porém usando o artificio de procurar/selecionar o tipo que queremos no dataframe:"
      ]
    },
    {
      "cell_type": "code",
      "metadata": {
        "id": "X1Nllwpxl228"
      },
      "source": [
        "print(f\"Média do vinho Branco: {df_vinhos[df_vinhos['color'] == 0]['quality'].mean()}\")\n",
        "print(f\"Média do vinho Tinto.: {df_vinhos[df_vinhos['color'] == 1]['quality'].mean()}\")\n",
        "print(f\"Média Geral..........: {df_vinhos['quality'].mean()}\")"
      ],
      "execution_count": null,
      "outputs": []
    },
    {
      "cell_type": "code",
      "metadata": {
        "id": "GHjfSmExmg0u"
      },
      "source": [
        "df_vinhos.columns"
      ],
      "execution_count": null,
      "outputs": []
    },
    {
      "cell_type": "code",
      "metadata": {
        "id": "J3ZsHlrWmLDQ"
      },
      "source": [
        "df_vinhos[df_vinhos['color'] == 1]['quality'] # filtra tinto"
      ],
      "execution_count": null,
      "outputs": []
    },
    {
      "cell_type": "markdown",
      "metadata": {
        "id": "7HjKZ6Z1bkct"
      },
      "source": [
        "A seguir, algo mais sofisticado, contendo título do gráfico, annotations e etc"
      ]
    },
    {
      "cell_type": "code",
      "metadata": {
        "id": "DzVsZsVenJ6p"
      },
      "source": [
        "fig, ax = plt.subplots(figsize=(10, 6))\n",
        "df_vinhos['quality'].value_counts().plot(kind = 'bar')"
      ],
      "execution_count": null,
      "outputs": []
    },
    {
      "cell_type": "code",
      "metadata": {
        "id": "jB9BTwBOa7UA"
      },
      "source": [
        "fig, ax = plt.subplots(figsize=(10, 6)) #tamanho da figura\n",
        "df_vinhos['quality'].value_counts().plot(kind = 'bar')\n",
        "\n",
        "# configurar o grafico\n",
        "\n",
        "# Título e label dos eixos X e Y\n",
        "plt.title('Avaliação da qualidade do vinho', fontsize = 25)\n",
        "plt.xlabel('Atributo: quality', fontsize = 10)\n",
        "plt.ylabel('Quantidade', fontsize = 10)\n",
        "\n",
        "# Colocar grid no gráfico\n",
        "ax.grid(True)\n",
        "\n",
        "# Configurar a legenda\n",
        "plt.legend()\n",
        "\n",
        "# Configurar limites do eixo Y\n",
        "plt.ylim(0, 3000)\n",
        "\n",
        "# Configurar limites do eixo X\n",
        "#plt.xlim(0, 3000)\n",
        " \n",
        "# Show graphic\n",
        "plt.show()"
      ],
      "execution_count": null,
      "outputs": []
    },
    {
      "cell_type": "code",
      "metadata": {
        "id": "w1CyCXVkmrFV"
      },
      "source": [
        "df_vinhos['color'].value_counts().plot(kind = 'bar')"
      ],
      "execution_count": null,
      "outputs": []
    },
    {
      "cell_type": "code",
      "metadata": {
        "id": "jU1AY-_wpU2h"
      },
      "source": [
        "df_vinhos.head()"
      ],
      "execution_count": null,
      "outputs": []
    },
    {
      "cell_type": "code",
      "metadata": {
        "id": "e0ayzbRanNDq"
      },
      "source": [
        "df_vinhos['fixed_acidity'].value_counts().sort_index().plot(kind = 'area')"
      ],
      "execution_count": null,
      "outputs": []
    },
    {
      "cell_type": "code",
      "metadata": {
        "id": "RjzkMuPTn0yI"
      },
      "source": [
        "l_colunas = ['fixed_acidity', 'volatile_acidity', 'citric_acid', 'residual_sugar', 'chlorides', 'free_sulfur_dioxide', 'total_sulfur_dioxide', 'density', 'ph', 'sulphates', 'alcohol']\n",
        "for caracteristica in l_colunas:\n",
        "    plt.figure() # Tire esta linha e veja o resultado\n",
        "    df_vinhos[caracteristica].value_counts().sort_index().plot(kind = 'area')"
      ],
      "execution_count": null,
      "outputs": []
    },
    {
      "cell_type": "code",
      "metadata": {
        "id": "q--NXapGoVZ3"
      },
      "source": [
        "l_colunas = ['fixed_acidity', 'volatile_acidity', 'citric_acid', 'residual_sugar', 'chlorides', 'free_sulfur_dioxide', 'total_sulfur_dioxide', 'density', 'ph', 'sulphates', 'alcohol']\n",
        "l_colunas = df_vinhos.columns  # automatizando\n",
        "for caracteristica in l_colunas:\n",
        "    plt.figure() # Tire esta linha e veja o resultado\n",
        "    df_vinhos[caracteristica].value_counts().sort_index().plot(kind = 'area')"
      ],
      "execution_count": null,
      "outputs": []
    },
    {
      "cell_type": "markdown",
      "metadata": {
        "id": "DbGa5BOYomig"
      },
      "source": [
        "###DESAFIO tornar o grafico mais informativo, colocar *legendas*"
      ]
    },
    {
      "cell_type": "markdown",
      "metadata": {
        "id": "PYIjyMkVnWnr"
      },
      "source": [
        "### Correlações"
      ]
    },
    {
      "cell_type": "markdown",
      "metadata": {
        "id": "MKfoqalholxm"
      },
      "source": [
        ""
      ]
    },
    {
      "cell_type": "code",
      "metadata": {
        "id": "IOCk4vhpnYn9"
      },
      "source": [
        "correlacoes = df_vinhos.corr()\n",
        "\n",
        "top_correlacoes_cols = correlacoes.color.sort_values(ascending=False).keys()\n",
        "top_correlacoes = correlacoes.loc[top_correlacoes_cols, top_correlacoes_cols]\n",
        "dropSelf = np.zeros_like(top_correlacoes)\n",
        "dropSelf[np.triu_indices_from(dropSelf)] = True\n",
        "plt.figure(figsize=(15, 9))\n",
        "sns.heatmap(top_correlacoes, cmap=sns.diverging_palette(220, 10, as_cmap=True), annot=True, fmt=\".2f\", mask=dropSelf)\n",
        "sns.set(font_scale=1.5)\n",
        "plt.show()\n",
        "del correlacoes, dropSelf, top_correlacoes"
      ],
      "execution_count": null,
      "outputs": []
    },
    {
      "cell_type": "code",
      "metadata": {
        "id": "SFqklDJf-8le"
      },
      "source": [
        "df_vinhos.head()"
      ],
      "execution_count": null,
      "outputs": []
    },
    {
      "cell_type": "markdown",
      "metadata": {
        "id": "H7hKbxfdBV8w"
      },
      "source": [
        "### Avaliar o comportamento bivariado ou a relação entre a variável-target e a variável preditora"
      ]
    },
    {
      "cell_type": "code",
      "metadata": {
        "id": "LllKqLx3_IIG"
      },
      "source": [
        "sns.jointplot(df_vinhos['alcohol'], df_vinhos['fixed_acidity'], kind = \"kde\")\n",
        "plt.savefig('minha_figura.png')\n",
        "plt.show()"
      ],
      "execution_count": null,
      "outputs": []
    },
    {
      "cell_type": "code",
      "metadata": {
        "id": "5Wbxcp43pnbc"
      },
      "source": [
        "sns.jointplot(df_vinhos['alcohol'], df_vinhos['fixed_acidity'], kind = \"kde\")\n",
        "plt.savefig('minha_figura.png')\n",
        "plt.show()"
      ],
      "execution_count": null,
      "outputs": []
    },
    {
      "cell_type": "code",
      "metadata": {
        "id": "c1aIYGUhp27R"
      },
      "source": [
        "sns.jointplot(df_vinhos['color'], df_vinhos['chlorides'], kind = \"kde\")\n",
        "plt.savefig('minha_figura.png')\n",
        "plt.show()"
      ],
      "execution_count": null,
      "outputs": []
    },
    {
      "cell_type": "markdown",
      "metadata": {
        "id": "4ixcDmeXIFQ1"
      },
      "source": [
        "### Pairplot\n",
        "* Verificar relacionamentos entre pares no dataframe."
      ]
    },
    {
      "cell_type": "code",
      "metadata": {
        "id": "lWqwaZ_lArji"
      },
      "source": [
        "#sns.pairplot(df_vinhos, hue = \"color\") # Compare os gráficos com e sem a opção hue\n",
        "sns.pairplot(df_vinhos)\n",
        "plt.show()"
      ],
      "execution_count": null,
      "outputs": []
    },
    {
      "cell_type": "code",
      "metadata": {
        "id": "gPzfOIpWtcfj"
      },
      "source": [
        "#grafico segmentar por cor\n",
        "sns.pairplot(df_vinhos, hue = \"color\")\n",
        "plt.show()"
      ],
      "execution_count": null,
      "outputs": []
    },
    {
      "cell_type": "markdown",
      "metadata": {
        "id": "6gmL1hHBs7wZ"
      },
      "source": [
        ""
      ]
    },
    {
      "cell_type": "code",
      "metadata": {
        "id": "vtOH-mTHLGC-"
      },
      "source": [
        "df_vinhos.head()"
      ],
      "execution_count": null,
      "outputs": []
    },
    {
      "cell_type": "code",
      "metadata": {
        "id": "dcaQ8aPaHwBB"
      },
      "source": [
        "sns.lmplot(\"alcohol\", \"sulphates\", df_vinhos, hue = \"color\", fit_reg = False)"
      ],
      "execution_count": null,
      "outputs": []
    },
    {
      "cell_type": "code",
      "metadata": {
        "id": "pWsCs585LPyn"
      },
      "source": [
        "sns.lmplot(\"alcohol\", \"sulphates\", df_vinhos, hue = \"quality\", fit_reg = False)"
      ],
      "execution_count": null,
      "outputs": []
    },
    {
      "cell_type": "markdown",
      "metadata": {
        "id": "5RwOiYi3OfD5"
      },
      "source": [
        "### Boxplot"
      ]
    },
    {
      "cell_type": "code",
      "metadata": {
        "id": "ZqIP5xUOMAqL"
      },
      "source": [
        "df_vinhos.boxplot(column = 'alcohol', by = 'quality', figsize = (12, 8))\n",
        "plt.xlabel('Quality', fontsize = 10, color= 'blue')\n",
        "plt.ylabel('alcohol', fontsize = 10, color= 'blue')\n",
        "plt.show()"
      ],
      "execution_count": null,
      "outputs": []
    }
  ]
}